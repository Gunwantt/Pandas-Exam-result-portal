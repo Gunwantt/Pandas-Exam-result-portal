{
 "cells": [
  {
   "cell_type": "markdown",
   "id": "75e2818b",
   "metadata": {},
   "source": [
    "# Importing Libraries"
   ]
  },
  {
   "cell_type": "code",
   "execution_count": 1,
   "id": "e0b0d0d6",
   "metadata": {},
   "outputs": [],
   "source": [
    "import numpy as np\n",
    "import pandas as pd\n",
    "import random\n",
    "from tkinter import *\n",
    "from tkinter import messagebox"
   ]
  },
  {
   "cell_type": "markdown",
   "id": "ca1b2e0c",
   "metadata": {},
   "source": [
    "# Creating Data"
   ]
  },
  {
   "cell_type": "code",
   "execution_count": 2,
   "id": "125c8067",
   "metadata": {},
   "outputs": [],
   "source": [
    "indian_states = [\"Andhra Pradesh\",\"Arunachal Pradesh \",\"Assam\",\"Bihar\",\"Chhattisgarh\",\"Goa\",\"Gujarat\",\"Haryana\",\"Himachal Pradesh\",\"Jammu and Kashmir\",\"Jharkhand\",\"Karnataka\",\"Kerala\",\"Madhya Pradesh\",\"Maharashtra\",\"Manipur\",\"Meghalaya\",\"Mizoram\",\"Nagaland\",\"Odisha\",\"Punjab\",\"Rajasthan\",\"Sikkim\",\"Tamil Nadu\",\"Telangana\",\"Tripura\",\"Uttar Pradesh\",\"Uttarakhand\",\"West Bengal\",\"Andaman and Nicobar Islands\",\"Chandigarh\",\"Dadra and Nagar Haveli\",\"Daman and Diu\",\"Lakshadweep\",\"National Capital Territory of Delhi\",\"Puducherry\"]\n",
    "# Filling marks\n",
    "\n",
    "#Number of records to generate\n",
    "N = 1000\n",
    "algebra_list = []\n",
    "geometry_list = []\n",
    "science_list = []\n",
    "states_list = []\n",
    "for i in range(0,N):\n",
    "    algebra_list.append(random.randint(0,100))\n",
    "    geometry_list.append(random.randint(0,100))\n",
    "    science_list.append(random.randint(0,100))\n",
    "    states_list.append(indian_states[random.randint(0,len(indian_states)-1)])\n",
    "# total calculation\n",
    "total_list = []\n",
    "for i in range(0,N):\n",
    "    total_list.append(algebra_list[i] + geometry_list[i] + science_list[i])\n",
    "\n",
    "# Creating roll numbers \n",
    "roll_no_list = []\n",
    "for i in range(0,N):\n",
    "    roll_no_list.append(i+1)\n",
    "\n",
    "dict1 = {'roll_no':roll_no_list,'state': states_list,'algebra':algebra_list, 'geometry':geometry_list, 'science':science_list,'total':total_list}\n",
    "\n",
    "df = pd.DataFrame(dict1)\n",
    "\n",
    "#Assigning pass and fail status to students\n",
    "status_list = []\n",
    "for i in range(0,N):\n",
    "    data_row = df.iloc[i]\n",
    "    if data_row['algebra'] < 35 or data_row['geometry'] < 35 or data_row['science'] < 35:\n",
    "        status_list.append('Failed')\n",
    "    else :\n",
    "        status_list.append('Passed')\n",
    "\n",
    "\n",
    "df['status'] = status_list\n",
    "\n",
    "#Assigning Ranks to passed students\n",
    "r_total_list = []\n",
    "for i in range(0,N):\n",
    "    if df.iloc[i].status == 'Passed':\n",
    "         r_total_list.append(df.iloc[i].total)\n",
    "\n",
    "sorted_total_list = sorted(r_total_list, reverse=True)\n",
    "sorted_total_list\n",
    "rank_dict = {}\n",
    "for i in range(0,len(sorted_total_list)):\n",
    "    rank_dict[sorted_total_list[i]] = i+1\n",
    "\n",
    "\n",
    "final_rank_list = []\n",
    "for i in range(0,N):\n",
    "    to_match = df.iloc[i].total\n",
    "    to_check = df.iloc[i].status\n",
    "    if to_match in r_total_list:\n",
    "        for m in rank_dict:\n",
    "            if m == to_match:\n",
    "                if to_check == 'Passed':\n",
    "                    final_rank_list.append(rank_dict[m])\n",
    "                else:\n",
    "                    final_rank_list.append(0)\n",
    "    else:\n",
    "        final_rank_list.append(0)\n",
    "\n",
    "\n",
    "df['Rank'] = final_rank_list"
   ]
  },
  {
   "cell_type": "code",
   "execution_count": 3,
   "id": "0f1ad9bc",
   "metadata": {},
   "outputs": [
    {
     "data": {
      "text/html": [
       "<div>\n",
       "<style scoped>\n",
       "    .dataframe tbody tr th:only-of-type {\n",
       "        vertical-align: middle;\n",
       "    }\n",
       "\n",
       "    .dataframe tbody tr th {\n",
       "        vertical-align: top;\n",
       "    }\n",
       "\n",
       "    .dataframe thead th {\n",
       "        text-align: right;\n",
       "    }\n",
       "</style>\n",
       "<table border=\"1\" class=\"dataframe\">\n",
       "  <thead>\n",
       "    <tr style=\"text-align: right;\">\n",
       "      <th></th>\n",
       "      <th>roll_no</th>\n",
       "      <th>state</th>\n",
       "      <th>algebra</th>\n",
       "      <th>geometry</th>\n",
       "      <th>science</th>\n",
       "      <th>total</th>\n",
       "      <th>status</th>\n",
       "      <th>Rank</th>\n",
       "    </tr>\n",
       "  </thead>\n",
       "  <tbody>\n",
       "    <tr>\n",
       "      <th>0</th>\n",
       "      <td>1</td>\n",
       "      <td>Lakshadweep</td>\n",
       "      <td>6</td>\n",
       "      <td>20</td>\n",
       "      <td>16</td>\n",
       "      <td>42</td>\n",
       "      <td>Failed</td>\n",
       "      <td>0</td>\n",
       "    </tr>\n",
       "    <tr>\n",
       "      <th>1</th>\n",
       "      <td>2</td>\n",
       "      <td>Manipur</td>\n",
       "      <td>4</td>\n",
       "      <td>57</td>\n",
       "      <td>45</td>\n",
       "      <td>106</td>\n",
       "      <td>Failed</td>\n",
       "      <td>0</td>\n",
       "    </tr>\n",
       "    <tr>\n",
       "      <th>2</th>\n",
       "      <td>3</td>\n",
       "      <td>Tripura</td>\n",
       "      <td>67</td>\n",
       "      <td>69</td>\n",
       "      <td>65</td>\n",
       "      <td>201</td>\n",
       "      <td>Passed</td>\n",
       "      <td>143</td>\n",
       "    </tr>\n",
       "    <tr>\n",
       "      <th>3</th>\n",
       "      <td>4</td>\n",
       "      <td>Puducherry</td>\n",
       "      <td>2</td>\n",
       "      <td>18</td>\n",
       "      <td>35</td>\n",
       "      <td>55</td>\n",
       "      <td>Failed</td>\n",
       "      <td>0</td>\n",
       "    </tr>\n",
       "    <tr>\n",
       "      <th>4</th>\n",
       "      <td>5</td>\n",
       "      <td>Karnataka</td>\n",
       "      <td>42</td>\n",
       "      <td>45</td>\n",
       "      <td>96</td>\n",
       "      <td>183</td>\n",
       "      <td>Passed</td>\n",
       "      <td>203</td>\n",
       "    </tr>\n",
       "  </tbody>\n",
       "</table>\n",
       "</div>"
      ],
      "text/plain": [
       "   roll_no        state  algebra  geometry  science  total  status  Rank\n",
       "0        1  Lakshadweep        6        20       16     42  Failed     0\n",
       "1        2      Manipur        4        57       45    106  Failed     0\n",
       "2        3      Tripura       67        69       65    201  Passed   143\n",
       "3        4   Puducherry        2        18       35     55  Failed     0\n",
       "4        5    Karnataka       42        45       96    183  Passed   203"
      ]
     },
     "execution_count": 3,
     "metadata": {},
     "output_type": "execute_result"
    }
   ],
   "source": [
    "df.head()"
   ]
  },
  {
   "cell_type": "code",
   "execution_count": 4,
   "id": "a5f7517d",
   "metadata": {},
   "outputs": [
    {
     "data": {
      "text/plain": [
       "(1000, 8)"
      ]
     },
     "execution_count": 4,
     "metadata": {},
     "output_type": "execute_result"
    }
   ],
   "source": [
    "df.shape"
   ]
  },
  {
   "cell_type": "markdown",
   "id": "a1e5768f",
   "metadata": {},
   "source": [
    "#  Function to check result"
   ]
  },
  {
   "cell_type": "code",
   "execution_count": 5,
   "id": "aa4a0a51",
   "metadata": {},
   "outputs": [],
   "source": [
    "def check_result(roll_number):\n",
    "    \n",
    "    print(df.iloc[roll_number-1])\n",
    "    \n",
    "    algebra_marks = df.iloc[roll_number-1].algebra\n",
    "    geometry_marks = df.iloc[roll_number-1].geometry\n",
    "    science_marks = df.iloc[roll_number-1].science\n",
    "    \n",
    "    resp = ''\n",
    "    if df.iloc[roll_number-1].status == 'Failed':\n",
    "        resp = messagebox.askquestion(title = 'Re-evaluation', message='Do you want to reevaluate your marks?')\n",
    "           \n",
    "    else:\n",
    "        messagebox.showinfo(message='Congratulations!!!')\n",
    "    \n",
    "    if resp == 'yes':\n",
    "        reevaluation(roll_number, algebra_marks, geometry_marks, science_marks)\n",
    "        updating_status(roll_number)\n",
    "        updating_ranks(df)\n",
    "        messagebox.showinfo(message='Your marks have been reevaluated!')\n",
    "    else:\n",
    "        messagebox.showinfo(message='All the best for Next year!!')\n",
    "    "
   ]
  },
  {
   "cell_type": "markdown",
   "id": "ba1fa687",
   "metadata": {},
   "source": [
    "# Function for reevaluation"
   ]
  },
  {
   "cell_type": "code",
   "execution_count": 6,
   "id": "e83cdafb",
   "metadata": {},
   "outputs": [],
   "source": [
    "def reevaluation(a, algebra_marks, geometry_marks, science_marks):\n",
    "    if algebra_marks < 35:\n",
    "        #input('type a for reevaluating marks in algebra: ').lower()\n",
    "        df.at[a-1, 'algebra'] = random.randint(0,100)\n",
    "    if geometry_marks < 35 :\n",
    "        #input('type g for reevaluating marks in geometry: ').lower()\n",
    "        df.at[a-1, 'geometry'] = random.randint(0,100)\n",
    "    if science_marks < 35:\n",
    "        #input('type s for reevaluating marks in science: ').lower()\n",
    "        df.at[a-1, 'science'] = random.randint(0,100) \n",
    "    \n",
    "   \n",
    "    "
   ]
  },
  {
   "cell_type": "markdown",
   "id": "ca9bfa63",
   "metadata": {},
   "source": [
    "# Function to update status"
   ]
  },
  {
   "cell_type": "code",
   "execution_count": 7,
   "id": "dc9ffae8",
   "metadata": {},
   "outputs": [],
   "source": [
    "def updating_status(a):\n",
    "    if df.iloc[a-1].algebra < 35 or df.iloc[a-1].geometry < 35 or df.iloc[a-1].science < 35:\n",
    "        df.at[a-1, 'status'] = 'Failed'\n",
    "    else :\n",
    "        df.at[a-1, 'status'] = 'Passed'"
   ]
  },
  {
   "cell_type": "markdown",
   "id": "1433466f",
   "metadata": {},
   "source": [
    "# Function to update ranks"
   ]
  },
  {
   "cell_type": "code",
   "execution_count": 8,
   "id": "07f962cc",
   "metadata": {},
   "outputs": [],
   "source": [
    "def updating_ranks(a):\n",
    "    \n",
    "    r_total_list = []\n",
    "    for i in range(0,N):\n",
    "        if a.iloc[i].status == 'Passed':\n",
    "             r_total_list.append(a.iloc[i].total)\n",
    "    \n",
    "    sorted_total_list = sorted(r_total_list, reverse=True)\n",
    "    \n",
    "    rank_dict = {}\n",
    "    for i in range(0,len(sorted_total_list)):\n",
    "        rank_dict[sorted_total_list[i]] = i+1\n",
    "    \n",
    "    final_rank_list = []\n",
    "    for i in range(0,N):\n",
    "        to_match = a.iloc[i].total\n",
    "        to_check = a.iloc[i].status\n",
    "        if to_match in r_total_list:\n",
    "            for m in rank_dict:\n",
    "                if m == to_match:\n",
    "                    if to_check == 'Passed':\n",
    "                        final_rank_list.append(rank_dict[m])\n",
    "                    else:\n",
    "                        final_rank_list.append(0)\n",
    "        else:\n",
    "            final_rank_list.append(0)\n",
    "    len(final_rank_list)\n",
    "    a['Rank'] = final_rank_list"
   ]
  },
  {
   "cell_type": "markdown",
   "id": "0e3cedd3",
   "metadata": {},
   "source": [
    "# Functions for teacher sections"
   ]
  },
  {
   "cell_type": "code",
   "execution_count": 9,
   "id": "b5a2d46c",
   "metadata": {},
   "outputs": [],
   "source": [
    "new_df = (df[df['status'] == 'Passed'])"
   ]
  },
  {
   "cell_type": "code",
   "execution_count": 10,
   "id": "cb145862",
   "metadata": {},
   "outputs": [
    {
     "data": {
      "text/plain": [
       "(292, 8)"
      ]
     },
     "execution_count": 10,
     "metadata": {},
     "output_type": "execute_result"
    }
   ],
   "source": [
    "new_df.shape"
   ]
  },
  {
   "cell_type": "code",
   "execution_count": 11,
   "id": "f8caaebd",
   "metadata": {},
   "outputs": [],
   "source": [
    "df_statewise = new_df.groupby(by='state')"
   ]
  },
  {
   "cell_type": "code",
   "execution_count": 12,
   "id": "fd74d7c2",
   "metadata": {},
   "outputs": [],
   "source": [
    "def highest_rank():\n",
    "    print(df_statewise['Rank'].min())\n",
    "def highest_algebra():\n",
    "    print(df_statewise['algebra'].max())\n",
    "def highest_geometry():\n",
    "    print(df_statewise['geometry'].max())\n",
    "def highest_science():\n",
    "    print(df_statewise['science'].max())  \n",
    "def average_algebra():\n",
    "    print(round(df_statewise['algebra'].mean(),2))\n",
    "def average_geometry():\n",
    "    print(round(df_statewise['geometry'].mean(),2))\n",
    "def average_science():\n",
    "    print(round(df_statewise['science'].mean(),2))"
   ]
  },
  {
   "cell_type": "markdown",
   "id": "d8f5e558",
   "metadata": {},
   "source": [
    "# Checking Result"
   ]
  },
  {
   "cell_type": "code",
   "execution_count": 13,
   "id": "eff5ba81",
   "metadata": {
    "scrolled": true
   },
   "outputs": [
    {
     "name": "stdout",
     "output_type": "stream",
     "text": [
      "roll_no         56\n",
      "state        Assam\n",
      "algebra         40\n",
      "geometry        92\n",
      "science         15\n",
      "total          147\n",
      "status      Failed\n",
      "Rank             0\n",
      "Name: 55, dtype: object\n",
      "roll_no         56\n",
      "state        Assam\n",
      "algebra         40\n",
      "geometry        92\n",
      "science         73\n",
      "total          147\n",
      "status      Passed\n",
      "Rank           277\n",
      "Name: 55, dtype: object\n"
     ]
    }
   ],
   "source": [
    "\n",
    "window = Tk()\n",
    "window.title('Exam Result Portal')\n",
    "window.minsize(width = 300, height = 300)\n",
    "\n",
    "def student_result_window():\n",
    "\n",
    "\n",
    "    for widget in window.winfo_children():\n",
    "        widget.destroy()\n",
    "\n",
    "    def get_number():\n",
    "        number = int(roll_no_entry.get())\n",
    "        check_result(number)\n",
    "\n",
    "    label2 = Label(text = 'Enter the roll number : ')\n",
    "    label2.place(x = 50, y = 100)\n",
    "\n",
    "    roll_no_entry = Entry(width = 10)\n",
    "    roll_no_entry.focus()\n",
    "    roll_no_entry.place(x=180, y=100)\n",
    "\n",
    "    submit_button = Button(text = 'Submit',command=get_number)\n",
    "    submit_button.place(x= 130, y=125)\n",
    "\n",
    "def teacher_summary_window():\n",
    "    for widget in window.winfo_children():\n",
    "        widget.destroy()\n",
    "    highest_ranks_button = Button(text = 'Highest', command = highest_rank )\n",
    "    highest_ranks_button.place(x=150,y=50)\n",
    "    highest_algebra_button = Button(text = 'Highest', command = highest_algebra )\n",
    "    highest_algebra_button.place(x=100, y=100)\n",
    "    highest_geometry_button = Button(text = 'Highest', command = highest_geometry )\n",
    "    highest_geometry_button.place(x=100, y=150)\n",
    "    highest_science_button = Button(text = 'Highest', command = highest_science )\n",
    "    highest_science_button.place(x=100, y=200)\n",
    "    \n",
    "    \n",
    "    average_algebra_button = Button(text = 'average', command = average_algebra )\n",
    "    average_algebra_button.place(x=200, y=100)\n",
    "    average_geometry_button = Button(text = 'average', command = average_geometry )\n",
    "    average_geometry_button.place(x=200, y=150)\n",
    "    average_science_button = Button(text = 'average', command = average_science)\n",
    "    average_science_button.place(x=200, y=200)\n",
    "    \n",
    "    label_rank = Label(text='Rank')\n",
    "    label_rank.place(x=20, y=50)\n",
    "    label_algebra = Label(text='Algebra')\n",
    "    label_algebra.place(x=20, y=100)\n",
    "    label_geometry = Label(text='Geometry')\n",
    "    label_geometry.place(x=20, y=150)\n",
    "    label_science = Label(text='Science')\n",
    "    label_science.place(x=20, y=200)\n",
    "    \n",
    "    \n",
    "section_label = Label(text = 'Choose a section : ')\n",
    "section_label.place(x=100,y=100)\n",
    "student_button = Button(text = 'student', command = student_result_window)\n",
    "student_button.place(x=100,y= 125)\n",
    "teacher_button = Button(text = 'teacher', command = teacher_summary_window)\n",
    "teacher_button.place(x=100,y=150)\n",
    "\n",
    "window.mainloop()"
   ]
  },
  {
   "cell_type": "markdown",
   "id": "8f4ea2f2",
   "metadata": {},
   "source": [
    "# ---------------------------------------------------------------------------------------------------"
   ]
  }
 ],
 "metadata": {
  "kernelspec": {
   "display_name": "Python 3 (ipykernel)",
   "language": "python",
   "name": "python3"
  },
  "language_info": {
   "codemirror_mode": {
    "name": "ipython",
    "version": 3
   },
   "file_extension": ".py",
   "mimetype": "text/x-python",
   "name": "python",
   "nbconvert_exporter": "python",
   "pygments_lexer": "ipython3",
   "version": "3.9.7"
  }
 },
 "nbformat": 4,
 "nbformat_minor": 5
}
